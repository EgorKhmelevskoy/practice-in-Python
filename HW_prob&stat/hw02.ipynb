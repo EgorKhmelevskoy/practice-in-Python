{
 "cells": [
  {
   "cell_type": "markdown",
   "metadata": {
    "id": "bQviT2rbPIbx"
   },
   "source": [
    "<center> <img src=\"https://raw.githubusercontent.com/FUlyankin/r_probability/master/end_seminars/sem_6/student_teacher_dist.png\" height=\"200\"> </center>\n",
    "\n",
    "# <center> R для тервера и матстата. <br>  <br> Домашка номер два! </center>"
   ]
  },
  {
   "cell_type": "markdown",
   "metadata": {
    "id": "y-CxXE__PIb0"
   },
   "source": [
    "__Брифинг:__ \n",
    "\n",
    "1. [скрррааа па па ка ка ка скидики па па энд э пу пу дррр бум скьа ду ду ку ку тун тун пум пум (c)](https://www.youtube.com/watch?v=3MVoH6elV30)\n",
    "2. Обязательно фиксируйте зерно генератора случайных чисел в экспериментах. При перезапуске кода значения не должны меняться :)\n",
    "3. Залейте тетрадку с решением на Google Colab. Нажмите кнопку share. Разрешите по ней редактировать тетрадку. Залейте ссылку в форму для сдачи домашек. \n",
    "4. __Дедлайн: 20 июня__\n",
    "5. [На страничке курса](https://github.com/FUlyankin/r_probability) есть решение домашек прошлого года. Ими можно пользоваться.\n",
    "6. Если вам не нравится R и вы можете писать код на python, пишите код на python. Это разрешено. "
   ]
  },
  {
   "cell_type": "code",
   "execution_count": 1,
   "metadata": {
    "id": "YWJt2n4aPIb1"
   },
   "outputs": [],
   "source": [
    "from scipy import stats\n",
    "import numpy as np\n",
    "import math\n",
    "import seaborn as sb\n",
    "import matplotlib.pyplot as plt\n",
    "import pandas as pd\n",
    "from datetime import datetime\n",
    "import random\n",
    "plt.style.use('ggplot')\n",
    "%matplotlib inline"
   ]
  },
  {
   "cell_type": "markdown",
   "metadata": {
    "id": "_Qb7XMAqPIb2"
   },
   "source": [
    "-------------------------------------------\n",
    "\n",
    "Попробуйте самостоятельно реализовывать все критерии и доверительные интервалы в виде функций. На вход в эти функции должны попадать данные, на выходе должны оказываться разные полезности и результаты. Например, вот так можно было бы попробовать написать критерий для проверки гипотезы о доли. "
   ]
  },
  {
   "cell_type": "code",
   "execution_count": null,
   "metadata": {
    "id": "4mUtVNP8PIb3",
    "outputId": "f58a5ae0-e342-4e8f-d2e3-1fcb1d2f0f20"
   },
   "outputs": [
    {
     "data": {
      "text/html": [
       "<dl>\n",
       "\t<dt>$estimate</dt>\n",
       "\t\t<dd>0.52</dd>\n",
       "\t<dt>$z_crit</dt>\n",
       "\t\t<dd>2.5758293035489</dd>\n",
       "\t<dt>$z_stat</dt>\n",
       "\t\t<dd>0.400320384512718</dd>\n",
       "\t<dt>$p_val</dt>\n",
       "\t\t<dd>0.34446027790223</dd>\n",
       "\t<dt>$alternative</dt>\n",
       "\t\t<dd>'greater'</dd>\n",
       "</dl>\n"
      ],
      "text/latex": [
       "\\begin{description}\n",
       "\\item[\\$estimate] 0.52\n",
       "\\item[\\$z\\_crit] 2.5758293035489\n",
       "\\item[\\$z\\_stat] 0.400320384512718\n",
       "\\item[\\$p\\_val] 0.34446027790223\n",
       "\\item[\\$alternative] 'greater'\n",
       "\\end{description}\n"
      ],
      "text/markdown": [
       "$estimate\n",
       ":   0.52\n",
       "$z_crit\n",
       ":   2.5758293035489\n",
       "$z_stat\n",
       ":   0.400320384512718\n",
       "$p_val\n",
       ":   0.34446027790223\n",
       "$alternative\n",
       ":   'greater'\n",
       "\n",
       "\n"
      ],
      "text/plain": [
       "$estimate\n",
       "[1] 0.52\n",
       "\n",
       "$z_crit\n",
       "[1] 2.575829\n",
       "\n",
       "$z_stat\n",
       "[1] 0.4003204\n",
       "\n",
       "$p_val\n",
       "[1] 0.3444603\n",
       "\n",
       "$alternative\n",
       "[1] \"greater\"\n"
      ]
     },
     "metadata": {
      "tags": []
     },
     "output_type": "display_data"
    }
   ],
   "source": [
    "z.prop = function(m, n, p0, alpha=0.05, alternative=\"two-sided\"){\n",
    "  \n",
    "  p_hat = m/n                       # оценка вероятности \n",
    "  sd_p = sqrt(p_hat*(1-p_hat)/n)    # дисперсия оценки\n",
    "  z_stat = (p_hat - p0)/sd_p        # наблюдаемое значение\n",
    "\n",
    "  # В зависимости от типа альтернативы делаем расчёты\n",
    "  if(alternative == 'two-sided'){\n",
    "      p_val <- 2*pnorm(-abs(z_stat))\n",
    "      z_crit <- qnorm(1-alpha/2)\n",
    "  }\n",
    "  if(alternative == 'lower'){\n",
    "      p_val <- pnorm(-abs(z_stat))\n",
    "      z_crit <- qnorm(alpha)\n",
    "  }\n",
    "  if(alternative == 'greater'){\n",
    "      p_val <- 1 - pnorm(abs(z_stat))\n",
    "      z_crit <- qnorm(1-alpha/2)\n",
    "  }\n",
    "    \n",
    "  # Возвращаем результаты проверки гипотезы в виде списка\n",
    "  return( list(estimate = p_hat, \n",
    "               z_crit = z_crit,\n",
    "               z_stat = z_stat,\n",
    "               p_val = p_val,\n",
    "               alternative = alternative))\n",
    "}\n",
    "\n",
    "result <- z.prop(52, 100, 0.5, alpha=0.01, alternative = 'greater')\n",
    "result"
   ]
  },
  {
   "cell_type": "code",
   "execution_count": null,
   "metadata": {
    "id": "EFvceOTKPIb3",
    "outputId": "91d49074-f796-4798-b5dc-6aa398ed29c5"
   },
   "outputs": [
    {
     "data": {
      "text/html": [
       "0.34446027790223"
      ],
      "text/latex": [
       "0.34446027790223"
      ],
      "text/markdown": [
       "0.34446027790223"
      ],
      "text/plain": [
       "[1] 0.3444603"
      ]
     },
     "metadata": {
      "tags": []
     },
     "output_type": "display_data"
    }
   ],
   "source": [
    "result$p_val # можно по именам из листа доставать разные циферки :3"
   ]
  },
  {
   "cell_type": "markdown",
   "metadata": {
    "id": "dMqjztkGPIb4"
   },
   "source": [
    "Если кишка тонка писать свои функции, пользуйтесь готовыми. Но имейте в виду, что не все критерии, которые понадобятся вам в этой тетрадке, реализованы в R в виде одной команды. Если есть желание, можете снабдить выдачу картинками по аналогии с тем, как мы делали это на лекции. Не путайте картинки местами! Например, не вздумайте использовать картинку для нормального распределения для t-критерия! Если код в ggplot кажется вам тяжёлым, можете попробовать рисовать картинки, [как во втором ответе тут.](https://stackoverflow.com/questions/36508020/can-r-visualize-the-t-test-or-other-hypothesis-test-results)\n",
    "\n",
    "Красивые функции для картинок [можно взять из тетрадки про доверительные интервалы,](https://nbviewer.jupyter.org/github/FUlyankin/r_probability/blob/master/end_seminars_2021/sem05/old_notebooks/Confidence_intervals.ipynb) либо [из тетрадки про проверки гипотез.](https://nbviewer.jupyter.org/github/FUlyankin/r_probability/blob/master/end_seminars_2021/sem05/old_notebooks/hypotesis.ipynb) Все эти же штуки ест [на курсере](https://github.com/FUlyankin/matstat_coursera) в более продвинутом виде. "
   ]
  },
  {
   "cell_type": "markdown",
   "metadata": {
    "id": "FkPKxLftPIb4"
   },
   "source": [
    "----------------------------"
   ]
  },
  {
   "cell_type": "markdown",
   "metadata": {
    "id": "oQN8f-nFPIb5"
   },
   "source": [
    "## [20] Задачка 1: Парковка\n",
    "\n",
    "\n",
    "Перед выборами в центре города открыли неразмеченную парковку длиной $100$ метров. Каждый приезжающий водитель случайным образом выбирает место длиной $2$ метра, и если место оказалось свободным, встает на парковку до конца дня. Если он не помещается в выбранный отрезок, то водитель в нервном состоянии уезжает с парковки. За один день на парковку пытается встать $1000$ проезжающих мимо водителей. Для выполнения всех пунктов заданий проведите $2000$ симуляций. __Для простоты будем считать, что выбор точки на парковке - это центр машины.__"
   ]
  },
  {
   "cell_type": "markdown",
   "metadata": {
    "id": "Usr6rwXFPIb5"
   },
   "source": [
    "__а)__ В среднем сколько машин оказываются припаркованы к концу дня?"
   ]
  },
  {
   "cell_type": "code",
   "execution_count": 6,
   "metadata": {
    "id": "LLYtuQnFPIb5"
   },
   "outputs": [],
   "source": [
    "### ╰( ͡° ͜ʖ ͡° )つ──☆ сккккрааа!\n",
    "N = 2000 # количество симуляций\n",
    "def sim (n):\n",
    "    random.seed(42)\n",
    "    attempts = np.random.uniform(0, 100, size = n)\n",
    "    parking = []\n",
    "    for a in attempts:\n",
    "        if a >= 1 and a <= 99:\n",
    "            if len(parking) == 0:\n",
    "                parking.append(a)\n",
    "            elif not sum(list(map(lambda x: x < a+2 and x > a-2, parking))):\n",
    "                parking.append(a)\n",
    "    return len(parking)\n",
    "list_cars = []\n",
    "for i in range(N):\n",
    "    list_cars.append(sim(1000))"
   ]
  },
  {
   "cell_type": "markdown",
   "metadata": {
    "id": "AVO-aqimPIb5"
   },
   "source": [
    "__б)__ Постройте $95$\\%-ый доверительный интервал для ожидаемого количества машин припаркованных к концу дня."
   ]
  },
  {
   "cell_type": "code",
   "execution_count": 9,
   "metadata": {
    "id": "_utsxENdPIb6"
   },
   "outputs": [
    {
     "name": "stdout",
     "output_type": "stream",
     "text": [
      "(36.25895953980297, 36.38204046019703) - доверительный интервал для ожидаемого количества машин на парковке\n"
     ]
    }
   ],
   "source": [
    "### ╰( ͡° ͜ʖ ͡° )つ──☆ скибиди па!\n",
    "cars_mean = np.array(list_cars).mean()\n",
    "alpha = 0.05\n",
    "z_crit = stats.norm.ppf(1-alpha/2)\n",
    "var = np.array(list_cars).var(ddof = 1)\n",
    "n = 2000\n",
    "delta = z_crit*np.sqrt(var/n)\n",
    "print(f'({cars_mean-delta}, {cars_mean+delta}) - доверительный интервал для ожидаемого количества машин на парковке')"
   ]
  },
  {
   "cell_type": "markdown",
   "metadata": {
    "id": "myU0NkJJPIb6"
   },
   "source": [
    "__в)__ Постройте $95$\\%-ый доверительный интервал для ожидаемого количества свободного места на парковке к концу дня (в метрах)."
   ]
  },
  {
   "cell_type": "code",
   "execution_count": 14,
   "metadata": {
    "id": "TyDEZS5APIb6"
   },
   "outputs": [
    {
     "name": "stdout",
     "output_type": "stream",
     "text": [
      "(27.235919079605946, 27.482080920394058) - доверительный интервал для ожидаемого количества машин на парковке\n"
     ]
    }
   ],
   "source": [
    "### ╰( ͡° ͜ʖ ͡° )つ──☆  пррррррр\n",
    "free_place = np.array(list(map(lambda x: 100-2*x, list_cars)))\n",
    "mu_hat = free_place.mean()\n",
    "alpha = 0.05\n",
    "z_crit = stats.norm.ppf(1-alpha/2)\n",
    "var = free_place.var(ddof = 1)\n",
    "n = 2000\n",
    "delta = z_crit*np.sqrt(var/n)\n",
    "print(f'({mu_hat-delta}, {mu_hat+delta}) - доверительный интервал для ожидаемого количества машин на парковке')"
   ]
  },
  {
   "cell_type": "markdown",
   "metadata": {
    "id": "efHmqqI9PIb6"
   },
   "source": [
    "__г)__ После возникшего хаоса на парковку добавили регулярную разметку для мест длиной $2$ метра, но водители разделились на два лагеря — тех, кто соблюдает и не соблюдает правила разметки. С вероятностью $p$ приезжает честный водитель и занимает случайное свободное место строго по разметке. Водители второго лагеря паркуются, как раньше. \n",
    "\n",
    "Нарисуйте график, где по оси ординат – процент честных водителей, а по оси абсцисс – процент свободного места на парковке к концу дня для вероятностей $p$ равным от $0$ до $1$ с шагом в $5\\%$. Для каждого порога вероятности проведите по $500$ симуляций."
   ]
  },
  {
   "cell_type": "code",
   "execution_count": 52,
   "metadata": {
    "id": "32vqyl0yPIb7"
   },
   "outputs": [
    {
     "data": {
      "text/plain": [
       "21"
      ]
     },
     "execution_count": 52,
     "metadata": {},
     "output_type": "execute_result"
    }
   ],
   "source": [
    "### ╰( ͡° ͜ʖ ͡° )つ──☆ ратата!\n",
    "def new_sim():\n",
    "    num_cars = []\n",
    "    for p in np.linspace(0, 1, 21):\n",
    "        places = list(range(1, 100, 2))\n",
    "        parking = []\n",
    "        for c in range(1000):    \n",
    "            if np.random.binomial(1, p):\n",
    "                for c in places:\n",
    "                    if len(parking) == 0 or not sum(list(map(lambda x: x < c+2 and x > c-2, parking))):\n",
    "                        parking.append(c)\n",
    "                        places.remove(c)\n",
    "                        break\n",
    "            else:\n",
    "                c = np.random.uniform(0, 100)\n",
    "                if len(parking) == 0 or not sum(list(map(lambda x: x < c+2 and x > c-2, parking))):\n",
    "                        parking.append(c)\n",
    "        num_cars.append(len(parking))\n",
    "    return num_cars"
   ]
  },
  {
   "cell_type": "code",
   "execution_count": 58,
   "metadata": {},
   "outputs": [
    {
     "data": {
      "image/png": "[encoded data removed]",
      "text/plain": [
       "<Figure size 432x288 with 1 Axes>"
      ]
     },
     "metadata": {
      "needs_background": "light"
     },
     "output_type": "display_data"
    }
   ],
   "source": [
    "N = 100\n",
    "vec = (-2*np.array(new_sim())+100)/100\n",
    "for i in range(N-1):\n",
    "    vec += (-2*np.array(new_sim())+100)/100\n",
    "vec = vec/N\n",
    "plt.plot(np.linspace(0, 1, 21), vec);"
   ]
  },
  {
   "cell_type": "markdown",
   "metadata": {
    "id": "fNF4G-8UPIb7"
   },
   "source": [
    "## [30] Задачка 2: продуктовые метрики\n",
    "\n",
    "\n",
    "Чтобы держать руку на пульсе бизнеса, нужно строить довольно много продуктовых метрик. Более того, нужно понимать насколько адекватно эти метрики построены и насколько сильно они могут колебаться.\n",
    "\n",
    "__Словарик:__ \n",
    "\n",
    "* __retention__ - возвращаемость пользоватяля к использованию продукта через $n$ дней (через день, два, неделю и тд) \n",
    "* __RPU__ - выручка на юзера, купившего товар (revenue per user) \n",
    "* __DAU__ - дневная активная аудитория (daily active user) \n",
    "* __LTV__ - совокупная прибыль, полученная за всё время сотрудничества с клиентом (Lifetime Value) \n",
    "\n"
   ]
  },
  {
   "cell_type": "markdown",
   "metadata": {
    "id": "vcoDC5tePIb7"
   },
   "source": [
    "Анализировать будем данные по продажам в [гугловом мерчендайз магазине.](https://www.kaggle.com/c/ga-customer-revenue-prediction) Скачайте [табличку с данными с гита.](https://github.com/FUlyankin/r_probability/blob/master/data/marketing_log.csv)\n",
    "\n",
    "- Для решения задачи используйте библиотеку `dplyr` для работы с таблицами. Никаких циклов! Только `groupby`, трубочки, фильтры и тп. \n",
    "- В текстовых полях с выводами не надо писать огромные абзацы текста. Пишите тезисно. "
   ]
  },
  {
   "cell_type": "code",
   "execution_count": 63,
   "metadata": {
    "id": "vhGo4tu8PIb7",
    "outputId": "4a8ac052-2ef4-44d4-ef07-fd94e8a1747f"
   },
   "outputs": [
    {
     "name": "stderr",
     "output_type": "stream",
     "text": [
      "C:\\Users\\DNS\\anaconda3\\lib\\site-packages\\IPython\\core\\interactiveshell.py:3071: DtypeWarning: Columns (1) have mixed types.Specify dtype option on import or set low_memory=False.\n",
      "  has_raised = await self.run_ast_nodes(code_ast.body, cell_name,\n"
     ]
    },
    {
     "data": {
      "text/html": [
       "<div>\n",
       "<style scoped>\n",
       "    .dataframe tbody tr th:only-of-type {\n",
       "        vertical-align: middle;\n",
       "    }\n",
       "\n",
       "    .dataframe tbody tr th {\n",
       "        vertical-align: top;\n",
       "    }\n",
       "\n",
       "    .dataframe thead th {\n",
       "        text-align: right;\n",
       "    }\n",
       "</style>\n",
       "<table border=\"1\" class=\"dataframe\">\n",
       "  <thead>\n",
       "    <tr style=\"text-align: right;\">\n",
       "      <th></th>\n",
       "      <th>date</th>\n",
       "      <th>fullVisitorId</th>\n",
       "      <th>browser</th>\n",
       "      <th>deviceCategory</th>\n",
       "      <th>transactionRevenue</th>\n",
       "    </tr>\n",
       "  </thead>\n",
       "  <tbody>\n",
       "    <tr>\n",
       "      <th>0</th>\n",
       "      <td>2016-09-02</td>\n",
       "      <td>1131660440785968503</td>\n",
       "      <td>Chrome</td>\n",
       "      <td>desktop</td>\n",
       "      <td>NaN</td>\n",
       "    </tr>\n",
       "    <tr>\n",
       "      <th>1</th>\n",
       "      <td>2016-09-02</td>\n",
       "      <td>377306020877927890</td>\n",
       "      <td>Firefox</td>\n",
       "      <td>desktop</td>\n",
       "      <td>NaN</td>\n",
       "    </tr>\n",
       "    <tr>\n",
       "      <th>2</th>\n",
       "      <td>2016-09-02</td>\n",
       "      <td>3895546263509774583</td>\n",
       "      <td>Chrome</td>\n",
       "      <td>desktop</td>\n",
       "      <td>NaN</td>\n",
       "    </tr>\n",
       "    <tr>\n",
       "      <th>3</th>\n",
       "      <td>2016-09-02</td>\n",
       "      <td>4763447161404445595</td>\n",
       "      <td>UC Browser</td>\n",
       "      <td>desktop</td>\n",
       "      <td>NaN</td>\n",
       "    </tr>\n",
       "    <tr>\n",
       "      <th>4</th>\n",
       "      <td>2016-09-02</td>\n",
       "      <td>27294437909732085</td>\n",
       "      <td>Chrome</td>\n",
       "      <td>mobile</td>\n",
       "      <td>NaN</td>\n",
       "    </tr>\n",
       "  </tbody>\n",
       "</table>\n",
       "</div>"
      ],
      "text/plain": [
       "         date        fullVisitorId     browser deviceCategory  \\\n",
       "0  2016-09-02  1131660440785968503      Chrome        desktop   \n",
       "1  2016-09-02   377306020877927890     Firefox        desktop   \n",
       "2  2016-09-02  3895546263509774583      Chrome        desktop   \n",
       "3  2016-09-02  4763447161404445595  UC Browser        desktop   \n",
       "4  2016-09-02    27294437909732085      Chrome         mobile   \n",
       "\n",
       "   transactionRevenue  \n",
       "0                 NaN  \n",
       "1                 NaN  \n",
       "2                 NaN  \n",
       "3                 NaN  \n",
       "4                 NaN  "
      ]
     },
     "execution_count": 63,
     "metadata": {},
     "output_type": "execute_result"
    }
   ],
   "source": [
    "df = pd.read_csv('C:/Users/DNS/Desktop/R для теорвера и матстата/marketing_log.csv', sep ='\\t')\n",
    "df.head()"
   ]
  },
  {
   "cell_type": "markdown",
   "metadata": {
    "id": "ky0lLLZPPIb8"
   },
   "source": [
    "__[3]__ Сколько людей пользовались магазином в среднем в течение дня/месяца? Постройте дневной график с суммарным числом пользователей, заходивших на сайт. Постройте месячный график. "
   ]
  },
  {
   "cell_type": "code",
   "execution_count": 7,
   "metadata": {
    "id": "-Co8a3BuPIb8"
   },
   "outputs": [
    {
     "data": {
      "image/png": "[encoded data removed]",
      "text/plain": [
       "<Figure size 432x288 with 1 Axes>"
      ]
     },
     "metadata": {
      "needs_background": "light"
     },
     "output_type": "display_data"
    }
   ],
   "source": [
    "### ╰( ͡° ͜ʖ ͡° )つ──☆ пау! пау! пау!\n",
    "per_day = df.groupby('date').agg({'fullVisitorId': 'nunique'})\n",
    "per_day.plot();\n",
    "df_month = df.copy()\n",
    "df_month.date = pd.to_datetime(df.date.values).strftime('%Y-%m-01')"
   ]
  },
  {
   "cell_type": "code",
   "execution_count": 8,
   "metadata": {},
   "outputs": [
    {
     "data": {
      "image/png": "[encoded data removed]",
      "text/plain": [
       "<Figure size 432x288 with 1 Axes>"
      ]
     },
     "metadata": {
      "needs_background": "light"
     },
     "output_type": "display_data"
    }
   ],
   "source": [
    "per_month = df_month.groupby('date').agg({'fullVisitorId': 'nunique'})\n",
    "per_month.plot();"
   ]
  },
  {
   "cell_type": "markdown",
   "metadata": {
    "id": "IrVpMd3APIb8"
   },
   "source": [
    "Проинтепретируйте график: \n",
    "\n",
    "* Наблюдается ли на нём сезонность? Какая она? \n",
    "* Когда в посещении сайта произошёл резкий всплеск? Как думаете с чем это связано? \n",
    "* Хороша ли эта метрика для оценки бизнеса? В чём её минусы?  \n",
    "\n",
    "__Ответ:__"
   ]
  },
  {
   "cell_type": "markdown",
   "metadata": {
    "id": "lcmQjU7RPIb8"
   },
   "source": [
    "__[1]__ Постройте график с числом пользовательских сессий. Насколько он сильно отличается от графика с числом уникальных пользователей. Как думаете о чём это может сигнализировать?  "
   ]
  },
  {
   "cell_type": "code",
   "execution_count": 10,
   "metadata": {
    "id": "nRU3zPe7PIb9"
   },
   "outputs": [
    {
     "data": {
      "text/plain": [
       "<matplotlib.axes._subplots.AxesSubplot at 0x282b856fd90>"
      ]
     },
     "execution_count": 10,
     "metadata": {},
     "output_type": "execute_result"
    },
    {
     "data": {
      "image/png": "[encoded data removed]",
      "text/plain": [
       "<Figure size 432x288 with 1 Axes>"
      ]
     },
     "metadata": {
      "needs_background": "light"
     },
     "output_type": "display_data"
    }
   ],
   "source": [
    "### ╰( ͡° ͜ʖ ͡° )つ──☆ Сккккраааа\n",
    "df_month.groupby('date').agg({'fullVisitorId': 'count'}).plot();"
   ]
  },
  {
   "cell_type": "markdown",
   "metadata": {
    "id": "-J-gBYtfPIb9"
   },
   "source": [
    "### Посмотрим на возвращаемость пользователей (retention)\n",
    "\n",
    "* `retention_1`  - вернулся ли игрок после **первого** дня с момента посещения магазина?\n",
    "* `retention_7`  - вернулся ли игрок после **седьмого** дня с момента посещения магазина?\n",
    "\n",
    "__[2]__ Заведите колонку: _дата первого появления юзера._ Посмотрите на то, как распределено число дней между текуим и первым посещением. Для этого постройте гистограмму.  Что интересного вы на ней видите? \n",
    "\n",
    "__Ответ:__ "
   ]
  },
  {
   "cell_type": "code",
   "execution_count": 11,
   "metadata": {
    "id": "tAMqLME7PIb9"
   },
   "outputs": [],
   "source": [
    "### ╰( ͡° ͜ʖ ͡° )つ──☆ кря\n",
    "first_time = df.groupby('fullVisitorId').agg({'date': 'min'})\n",
    "first_time.columns = ['first time']\n",
    "df1 = df.join(first_time, on = 'fullVisitorId')"
   ]
  },
  {
   "cell_type": "markdown",
   "metadata": {},
   "source": [
    "__[1]__ Создайте колонку с разностью в днях между первым и последним посещениями. Назовите её `daysFromFirstVisit`."
   ]
  },
  {
   "cell_type": "code",
   "execution_count": 12,
   "metadata": {},
   "outputs": [
    {
     "data": {
      "text/html": [
       "<div>\n",
       "<style scoped>\n",
       "    .dataframe tbody tr th:only-of-type {\n",
       "        vertical-align: middle;\n",
       "    }\n",
       "\n",
       "    .dataframe tbody tr th {\n",
       "        vertical-align: top;\n",
       "    }\n",
       "\n",
       "    .dataframe thead th {\n",
       "        text-align: right;\n",
       "    }\n",
       "</style>\n",
       "<table border=\"1\" class=\"dataframe\">\n",
       "  <thead>\n",
       "    <tr style=\"text-align: right;\">\n",
       "      <th></th>\n",
       "      <th>date</th>\n",
       "      <th>fullVisitorId</th>\n",
       "      <th>browser</th>\n",
       "      <th>deviceCategory</th>\n",
       "      <th>transactionRevenue</th>\n",
       "      <th>first time</th>\n",
       "      <th>daysFromFirstVisit</th>\n",
       "    </tr>\n",
       "  </thead>\n",
       "  <tbody>\n",
       "    <tr>\n",
       "      <th>0</th>\n",
       "      <td>2016-09-02</td>\n",
       "      <td>1131660440785968503</td>\n",
       "      <td>Chrome</td>\n",
       "      <td>desktop</td>\n",
       "      <td>NaN</td>\n",
       "      <td>2016-09-02</td>\n",
       "      <td>0 days</td>\n",
       "    </tr>\n",
       "    <tr>\n",
       "      <th>1</th>\n",
       "      <td>2016-09-02</td>\n",
       "      <td>377306020877927890</td>\n",
       "      <td>Firefox</td>\n",
       "      <td>desktop</td>\n",
       "      <td>NaN</td>\n",
       "      <td>2016-09-02</td>\n",
       "      <td>0 days</td>\n",
       "    </tr>\n",
       "    <tr>\n",
       "      <th>2</th>\n",
       "      <td>2016-09-02</td>\n",
       "      <td>3895546263509774583</td>\n",
       "      <td>Chrome</td>\n",
       "      <td>desktop</td>\n",
       "      <td>NaN</td>\n",
       "      <td>2016-09-02</td>\n",
       "      <td>0 days</td>\n",
       "    </tr>\n",
       "    <tr>\n",
       "      <th>3</th>\n",
       "      <td>2016-09-02</td>\n",
       "      <td>4763447161404445595</td>\n",
       "      <td>UC Browser</td>\n",
       "      <td>desktop</td>\n",
       "      <td>NaN</td>\n",
       "      <td>2016-09-02</td>\n",
       "      <td>0 days</td>\n",
       "    </tr>\n",
       "    <tr>\n",
       "      <th>4</th>\n",
       "      <td>2016-09-02</td>\n",
       "      <td>27294437909732085</td>\n",
       "      <td>Chrome</td>\n",
       "      <td>mobile</td>\n",
       "      <td>NaN</td>\n",
       "      <td>2016-08-10</td>\n",
       "      <td>23 days</td>\n",
       "    </tr>\n",
       "  </tbody>\n",
       "</table>\n",
       "</div>"
      ],
      "text/plain": [
       "        date        fullVisitorId     browser deviceCategory  \\\n",
       "0 2016-09-02  1131660440785968503      Chrome        desktop   \n",
       "1 2016-09-02   377306020877927890     Firefox        desktop   \n",
       "2 2016-09-02  3895546263509774583      Chrome        desktop   \n",
       "3 2016-09-02  4763447161404445595  UC Browser        desktop   \n",
       "4 2016-09-02    27294437909732085      Chrome         mobile   \n",
       "\n",
       "   transactionRevenue first time daysFromFirstVisit  \n",
       "0                 NaN 2016-09-02             0 days  \n",
       "1                 NaN 2016-09-02             0 days  \n",
       "2                 NaN 2016-09-02             0 days  \n",
       "3                 NaN 2016-09-02             0 days  \n",
       "4                 NaN 2016-08-10            23 days  "
      ]
     },
     "execution_count": 12,
     "metadata": {},
     "output_type": "execute_result"
    }
   ],
   "source": [
    "### ╰( ͡° ͜ʖ ͡° )つ──☆ ррррааа!\n",
    "df1[['date', 'first time']] = df1[['date', 'first time']].apply(pd.to_datetime)\n",
    "df1['daysFromFirstVisit'] = df1.date - df1['first time']\n",
    "df1.head()"
   ]
  },
  {
   "cell_type": "code",
   "execution_count": 13,
   "metadata": {},
   "outputs": [],
   "source": [
    "df1.daysFromFirstVisit = df1.daysFromFirstVisit.map(lambda x: x.days)"
   ]
  },
  {
   "cell_type": "code",
   "execution_count": 16,
   "metadata": {
    "id": "hREnJ6rEPIb-"
   },
   "outputs": [
    {
     "data": {
      "image/png": "[encoded data removed]",
      "text/plain": [
       "<Figure size 432x288 with 1 Axes>"
      ]
     },
     "metadata": {
      "needs_background": "light"
     },
     "output_type": "display_data"
    }
   ],
   "source": [
    "DF1V = df1.daysFromFirstVisit\n",
    "DF1V.hist(bins = 50);"
   ]
  },
  {
   "cell_type": "markdown",
   "metadata": {
    "id": "DvzLsKCoPIb-"
   },
   "source": [
    "__[1]__ Посчитаем `retention_7`. Если `daysFromFirstVisit` оказывается больше $7$, значит человек вернулся более, чем через $7$ дней после первого посещения. Доля таких людей для каждого дня и есть `retention_7`. Найдите её для каждого дня и постройте картинку. "
   ]
  },
  {
   "cell_type": "code",
   "execution_count": 18,
   "metadata": {
    "id": "nown4wbXPIb-"
   },
   "outputs": [
    {
     "data": {
      "image/png": "[encoded data removed]",
      "text/plain": [
       "<Figure size 432x288 with 1 Axes>"
      ]
     },
     "metadata": {
      "needs_background": "light"
     },
     "output_type": "display_data"
    }
   ],
   "source": [
    "### ╰( ͡° ͜ʖ ͡° )つ──☆ гггггррррааа!\n",
    "retention_7 = df1.groupby('date').agg({'daysFromFirstVisit': lambda x: len(x[x>7])/len(x)})\n",
    "retention_7.plot();"
   ]
  },
  {
   "cell_type": "markdown",
   "metadata": {
    "id": "1U2XrUgePIb_"
   },
   "source": [
    "__[1]__ Есть много точечных оценок доли людей, которая возвращается для каждой даты. Но этого мало, каждая точка строится по разному числу наблюдений и нам хотелось бы понимать насколько оценка точная. Возвращаемость - это доля. Значит можно построить для неё $95\\%$ доверителльный интервал с помощью ЦПТ:\n",
    "\n",
    "$$\n",
    "\\hat p \\pm z_{1 - \\frac{\\alpha}{2}} \\cdot \\sqrt{\\frac{\\hat p \\cdot (1 - \\hat p)}{n}} \n",
    "$$"
   ]
  },
  {
   "cell_type": "code",
   "execution_count": 31,
   "metadata": {
    "id": "Ja7L9xPPPIb_"
   },
   "outputs": [
    {
     "name": "stdout",
     "output_type": "stream",
     "text": [
      "Доверительный интервал для доли - (0.14956943629937713, 0.14956943629937713)\n"
     ]
    }
   ],
   "source": [
    "### ╰( ͡° ͜ʖ ͡° )つ──☆ эщкере\n",
    "retention = df1.groupby('date')['daysFromFirstVisit'].agg(lambda x: len(x[x>0])/len(x))\n",
    "alpha = 0.05\n",
    "z_alpha = stats.norm.ppf(1-alpha/2)\n",
    "p_hat = retention.mean()\n",
    "var = p_hat*(1-p_hat)/len(retention)\n",
    "z_right = p_hat + z_alpha*np.sqrt(var) \n",
    "z_left = p_hat + z_alpha*np.sqrt(var) \n",
    "print(f'Доверительный интервал для доли - ({z_left}, {z_right})')"
   ]
  },
  {
   "cell_type": "markdown",
   "metadata": {
    "id": "z1z4zVyHPIb_"
   },
   "source": [
    "__[1]__ Постройте для семидневной возвращаемости $95\\%$ [доверительный интервал Уилсона.](https://en.wikipedia.org/wiki/Binomial_proportion_confidence_interval)\n",
    "\n",
    "$$\\frac1{ 1 + \\frac{z^2}{n} } \\left( \\hat{p} + \\frac{z^2}{2n} \\pm z \\sqrt{ \\frac{ \\hat{p}\\left(1-\\hat{p}\\right)}{n} + \\frac{\n",
    "z^2}{4n^2} } \\right), \\;\\; z \\equiv z_{1-\\frac{\\alpha}{2}}$$ "
   ]
  },
  {
   "cell_type": "code",
   "execution_count": null,
   "metadata": {
    "id": "PW2DE09RPIb_"
   },
   "outputs": [],
   "source": [
    "### ╰( ͡° ͜ʖ ͡° )つ──☆ бррря"
   ]
  },
  {
   "cell_type": "markdown",
   "metadata": {
    "id": "IXIbFYRBPIb_"
   },
   "source": [
    "__[1]__ В каких ситуациях он обычно используется? Как его можно вывести? Шире он получился или уже? Как думаете, почему? \n",
    "\n",
    "__Ответ:__"
   ]
  },
  {
   "cell_type": "markdown",
   "metadata": {
    "id": "rDToSfzDPIcA"
   },
   "source": [
    "__[3]__ Финальный заход на анализ возвращаемости. [Построим heatmap](http://www.sthda.com/english/wiki/ggplot2-quick-correlation-matrix-heatmap-r-software-and-data-visualization) с возвращаемостью по когортам. За когорту будем рассматривать людей, пришедших в течение конкретного месяца. Должна получиться примерно такая картинка: \n",
    "\n",
    "![](https://raw.githubusercontent.com/FUlyankin/r_probability/master/end_seminars_2020/HW/retention.png) \n"
   ]
  },
  {
   "cell_type": "markdown",
   "metadata": {
    "id": "KbhaO1LcPIcA"
   },
   "source": [
    "По оси $y$ откладывайте месяц первого прихода. По оси $x$ откладывается месяц, на который мы смотрим __retention.__ Например, клетка на пересечении да `2017-01` по $x$ и `2016-08` по $y$ - число людей, которые вернулис на сайт в январе $2017$ и при этом зарегистрировались в августе $2016$. "
   ]
  },
  {
   "cell_type": "markdown",
   "metadata": {
    "id": "NRrLszZnPIcA"
   },
   "source": [
    "__[1]__ Какие выводы вы можете сделать о возврате пользователей после всех манипуляций с retention? \n",
    "\n",
    "__Ответ:__"
   ]
  },
  {
   "cell_type": "code",
   "execution_count": null,
   "metadata": {
    "id": "eiImg3pmPIcA"
   },
   "outputs": [],
   "source": [
    "### ╰( ͡° ͜ʖ ͡° )つ──☆ як! як! як!"
   ]
  },
  {
   "cell_type": "markdown",
   "metadata": {
    "id": "H3YcjKqNPIcA"
   },
   "source": [
    "### Проанализируем продажи.\n",
    "\n",
    "__[1]__ Какой процент людей, зашедших на сайт делает покупки?"
   ]
  },
  {
   "cell_type": "code",
   "execution_count": 81,
   "metadata": {
    "id": "E-r8Emf9PIcB"
   },
   "outputs": [
    {
     "data": {
      "text/plain": [
       "0.013944555666703617"
      ]
     },
     "execution_count": 81,
     "metadata": {},
     "output_type": "execute_result"
    }
   ],
   "source": [
    "### ╰( ͡° ͜ʖ ͡° )つ──☆ антихайп\n",
    "df.transactionRevenue = df.transactionRevenue.replace(df.transactionRevenue.iloc[0], np.nan)\n",
    "purchases = df.groupby('fullVisitorId').agg({'transactionRevenue': 'count'})\n",
    "purchases.transactionRevenue[purchases.transactionRevenue>1] = 1\n",
    "purchases.transactionRevenue.mean()"
   ]
  },
  {
   "cell_type": "markdown",
   "metadata": {
    "id": "FNxJBXg3PIcB"
   },
   "source": [
    "__[1]__ После какого посещения они делают свою первую покупку? Постройте гистограмму."
   ]
  },
  {
   "cell_type": "code",
   "execution_count": 82,
   "metadata": {
    "id": "rZZjhQXiPIcB"
   },
   "outputs": [],
   "source": [
    "### ╰( ͡° ͜ʖ ͡° )つ──☆ антихайп\n",
    "id_buyers = purchases[purchases.transactionRevenue>0].index"
   ]
  },
  {
   "cell_type": "code",
   "execution_count": 209,
   "metadata": {},
   "outputs": [
    {
     "data": {
      "image/png": "[encoded data removed]",
      "text/plain": [
       "<Figure size 432x288 with 1 Axes>"
      ]
     },
     "metadata": {
      "needs_background": "light"
     },
     "output_type": "display_data"
    }
   ],
   "source": [
    "buyers = df[df.fullVisitorId.isin(id_buyers)]\n",
    "buy_after = buyers.groupby('fullVisitorId').agg({'transactionRevenue': lambda x: list(x.isna()).index(False)+1})\n",
    "for_bar = buy_after.reset_index().groupby('transactionRevenue').count().fullVisitorId\n",
    "plt.bar(for_bar.index, for_bar.values);"
   ]
  },
  {
   "cell_type": "markdown",
   "metadata": {
    "id": "wlxvpiCjPIcB"
   },
   "source": [
    "__[1]__ Сколько покупок делает один пользователь? Постройте гистограмму числа покупок."
   ]
  },
  {
   "cell_type": "code",
   "execution_count": 119,
   "metadata": {
    "id": "ESFIn8sdPIcB"
   },
   "outputs": [
    {
     "data": {
      "text/plain": [
       "array([[<matplotlib.axes._subplots.AxesSubplot object at 0x00000282B872ED00>]],\n",
       "      dtype=object)"
      ]
     },
     "execution_count": 119,
     "metadata": {},
     "output_type": "execute_result"
    },
    {
     "data": {
      "image/png": "[encoded data removed]",
      "text/plain": [
       "<Figure size 432x288 with 1 Axes>"
      ]
     },
     "metadata": {
      "needs_background": "light"
     },
     "output_type": "display_data"
    }
   ],
   "source": [
    "### ╰( ͡° ͜ʖ ͡° )つ──☆ ка ка ка ка ка\n",
    "df.groupby('fullVisitorId').agg({'transactionRevenue': 'count'}).hist(bins = 100);"
   ]
  },
  {
   "cell_type": "markdown",
   "metadata": {
    "id": "p0SmLUT6PIcB"
   },
   "source": [
    "__[1]__ Отберите в маленькую табличку все записи лога, которые соотвествуют покупке. "
   ]
  },
  {
   "cell_type": "code",
   "execution_count": 133,
   "metadata": {
    "id": "gnlhF9hcPIcC"
   },
   "outputs": [],
   "source": [
    "### ╰( ͡° ͜ʖ ͡° )つ──☆ врум пум пум пум пум\n",
    "money_dist = df[df.transactionRevenue.notna()].transactionRevenue"
   ]
  },
  {
   "cell_type": "markdown",
   "metadata": {
    "id": "wdc_2QYOPIcC"
   },
   "source": [
    "__[1]__ Посмотрите на то как выглядит распределение стоимости покупок."
   ]
  },
  {
   "cell_type": "code",
   "execution_count": 135,
   "metadata": {
    "id": "YAUaZqxVPIcC"
   },
   "outputs": [
    {
     "data": {
      "image/png": "[encoded data removed]",
      "text/plain": [
       "<Figure size 432x288 with 1 Axes>"
      ]
     },
     "metadata": {
      "needs_background": "light"
     },
     "output_type": "display_data"
    }
   ],
   "source": [
    "### ╰( ͡° ͜ʖ ͡° )つ──☆ дррррр бум\n",
    "money_dist.hist();"
   ]
  },
  {
   "cell_type": "markdown",
   "metadata": {
    "id": "QD2MW-8gPIcC"
   },
   "source": [
    "В данных явно есть выбросы. Видно, что у распределения очень длинный хвост. Нам хотелось бы построить для средней выручки с пользователя доверительный интервал, но выбросы будут мешать нам использовать ЦПТ, которая предполагает что все случайные величины, участвующие в поиске среднего имеют одинаковое распределение, и аномалии не встречаются. \n",
    "\n",
    "__[1]__ Давайте избавимся от выбросов. Для этого найдите $95\\%$ квантиль и срежте все наблюдения, где выручка больше него. Снова постройте гистограмму. "
   ]
  },
  {
   "cell_type": "code",
   "execution_count": 141,
   "metadata": {
    "id": "i7RANw8hPIcC"
   },
   "outputs": [
    {
     "data": {
      "image/png": "[encoded data removed]",
      "text/plain": [
       "<Figure size 432x288 with 1 Axes>"
      ]
     },
     "metadata": {
      "needs_background": "light"
     },
     "output_type": "display_data"
    }
   ],
   "source": [
    "### ╰( ͡° ͜ʖ ͡° )つ──☆ гра трааа\n",
    "money_dist = money_dist[money_dist < money_dist.quantile(0.95)]\n",
    "money_dist.hist(bins = 30);"
   ]
  },
  {
   "cell_type": "markdown",
   "metadata": {
    "id": "ST1ROXpQPIcC"
   },
   "source": [
    "__[1]__ Посчитайте по выручке среднее, стандартное отклонение и число наблюдений для каждого месяца."
   ]
  },
  {
   "cell_type": "code",
   "execution_count": 159,
   "metadata": {
    "id": "5JAj5SwbPIcD"
   },
   "outputs": [],
   "source": [
    "### ╰( ͡° ͜ʖ ͡° )つ──☆ ууууууу\n",
    "rev = df[df.transactionRevenue.notna()]\n",
    "rev.date = np.array(pd.to_datetime(rev.date.values).strftime('%Y-%m-01'))"
   ]
  },
  {
   "cell_type": "code",
   "execution_count": 197,
   "metadata": {},
   "outputs": [
    {
     "data": {
      "text/html": [
       "<div>\n",
       "<style scoped>\n",
       "    .dataframe tbody tr th:only-of-type {\n",
       "        vertical-align: middle;\n",
       "    }\n",
       "\n",
       "    .dataframe tbody tr th {\n",
       "        vertical-align: top;\n",
       "    }\n",
       "\n",
       "    .dataframe thead tr th {\n",
       "        text-align: left;\n",
       "    }\n",
       "\n",
       "    .dataframe thead tr:last-of-type th {\n",
       "        text-align: right;\n",
       "    }\n",
       "</style>\n",
       "<table border=\"1\" class=\"dataframe\">\n",
       "  <thead>\n",
       "    <tr>\n",
       "      <th></th>\n",
       "      <th colspan=\"3\" halign=\"left\">transactionRevenue</th>\n",
       "    </tr>\n",
       "    <tr>\n",
       "      <th></th>\n",
       "      <th>mean</th>\n",
       "      <th>std</th>\n",
       "      <th>count</th>\n",
       "    </tr>\n",
       "    <tr>\n",
       "      <th>date</th>\n",
       "      <th></th>\n",
       "      <th></th>\n",
       "      <th></th>\n",
       "    </tr>\n",
       "  </thead>\n",
       "  <tbody>\n",
       "    <tr>\n",
       "      <th>2016-08-01</th>\n",
       "      <td>138218552.3</td>\n",
       "      <td>266405175.7</td>\n",
       "      <td>1119</td>\n",
       "    </tr>\n",
       "    <tr>\n",
       "      <th>2016-09-01</th>\n",
       "      <td>146718556.5</td>\n",
       "      <td>589068834.1</td>\n",
       "      <td>859</td>\n",
       "    </tr>\n",
       "    <tr>\n",
       "      <th>2016-10-01</th>\n",
       "      <td>129964529.8</td>\n",
       "      <td>252377237.7</td>\n",
       "      <td>872</td>\n",
       "    </tr>\n",
       "    <tr>\n",
       "      <th>2016-11-01</th>\n",
       "      <td>129503667.0</td>\n",
       "      <td>273744904.8</td>\n",
       "      <td>919</td>\n",
       "    </tr>\n",
       "    <tr>\n",
       "      <th>2016-12-01</th>\n",
       "      <td>110794215.1</td>\n",
       "      <td>302059346.5</td>\n",
       "      <td>1395</td>\n",
       "    </tr>\n",
       "    <tr>\n",
       "      <th>2017-01-01</th>\n",
       "      <td>140427245.3</td>\n",
       "      <td>266543180.9</td>\n",
       "      <td>697</td>\n",
       "    </tr>\n",
       "    <tr>\n",
       "      <th>2017-02-01</th>\n",
       "      <td>153610904.0</td>\n",
       "      <td>707950909.4</td>\n",
       "      <td>708</td>\n",
       "    </tr>\n",
       "    <tr>\n",
       "      <th>2017-03-01</th>\n",
       "      <td>148317406.6</td>\n",
       "      <td>400259738.8</td>\n",
       "      <td>883</td>\n",
       "    </tr>\n",
       "    <tr>\n",
       "      <th>2017-04-01</th>\n",
       "      <td>171108620.7</td>\n",
       "      <td>899037337.4</td>\n",
       "      <td>928</td>\n",
       "    </tr>\n",
       "    <tr>\n",
       "      <th>2017-05-01</th>\n",
       "      <td>109158278.0</td>\n",
       "      <td>255379892.9</td>\n",
       "      <td>1115</td>\n",
       "    </tr>\n",
       "    <tr>\n",
       "      <th>2017-06-01</th>\n",
       "      <td>128508974.6</td>\n",
       "      <td>374166694.7</td>\n",
       "      <td>946</td>\n",
       "    </tr>\n",
       "    <tr>\n",
       "      <th>2017-07-01</th>\n",
       "      <td>120755848.7</td>\n",
       "      <td>409390712.9</td>\n",
       "      <td>1031</td>\n",
       "    </tr>\n",
       "    <tr>\n",
       "      <th>2017-08-01</th>\n",
       "      <td>193138139.5</td>\n",
       "      <td>478700758.3</td>\n",
       "      <td>43</td>\n",
       "    </tr>\n",
       "  </tbody>\n",
       "</table>\n",
       "</div>"
      ],
      "text/plain": [
       "           transactionRevenue                   \n",
       "                         mean          std count\n",
       "date                                            \n",
       "2016-08-01        138218552.3  266405175.7  1119\n",
       "2016-09-01        146718556.5  589068834.1   859\n",
       "2016-10-01        129964529.8  252377237.7   872\n",
       "2016-11-01        129503667.0  273744904.8   919\n",
       "2016-12-01        110794215.1  302059346.5  1395\n",
       "2017-01-01        140427245.3  266543180.9   697\n",
       "2017-02-01        153610904.0  707950909.4   708\n",
       "2017-03-01        148317406.6  400259738.8   883\n",
       "2017-04-01        171108620.7  899037337.4   928\n",
       "2017-05-01        109158278.0  255379892.9  1115\n",
       "2017-06-01        128508974.6  374166694.7   946\n",
       "2017-07-01        120755848.7  409390712.9  1031\n",
       "2017-08-01        193138139.5  478700758.3    43"
      ]
     },
     "execution_count": 197,
     "metadata": {},
     "output_type": "execute_result"
    }
   ],
   "source": [
    "rev_per_month = rev.groupby('date').agg({'transactionRevenue': ['mean', 'std', 'count']})\n",
    "rev_per_month = rev_per_month.applymap(lambda x: round(x, 1))\n",
    "rev_per_month.index = pd.to_datetime(rev_per_month.index)\n",
    "rev_per_month\n"
   ]
  },
  {
   "cell_type": "markdown",
   "metadata": {
    "id": "4vRoVaSPPIcD"
   },
   "source": [
    "__[1]__ Наконец, воспользуемся формулой для строительства доверительного интервала для среднего: \n",
    "\n",
    "$$\n",
    "\\hat \\mu \\pm z_{1 - \\frac{\\alpha}{2}} \\cdot \\sqrt{\\frac{\\hat{\\sigma}^2}{n}}.\n",
    "$$\n",
    "\n",
    "Изобразите месячную динамику средней RPU на картинке. Нанесите на неё $95\\%$ доверительный интервал. "
   ]
  },
  {
   "cell_type": "code",
   "execution_count": 199,
   "metadata": {
    "id": "i9HPK_LDPIcD"
   },
   "outputs": [
    {
     "name": "stdout",
     "output_type": "stream",
     "text": [
      "(125556925.92, 141932651.16) - доверительный интервал для среднего\n"
     ]
    },
    {
     "data": {
      "image/png": "[encoded data removed]",
      "text/plain": [
       "<Figure size 432x288 with 1 Axes>"
      ]
     },
     "metadata": {
      "needs_background": "light"
     },
     "output_type": "display_data"
    }
   ],
   "source": [
    "### ╰( ͡° ͜ʖ ͡° )つ──☆ юцубуцу\n",
    "n = len(rev.transactionRevenue)\n",
    "alpha = 0.05\n",
    "mu_hat = rev.transactionRevenue.mean()\n",
    "var_hat = rev.transactionRevenue.var(ddof=1)\n",
    "z_alpha = stats.norm.ppf(1-alpha/2)\n",
    "left = round(mu_hat - z_alpha*np.sqrt(var_hat/n), 2)\n",
    "right = round(mu_hat + z_alpha*np.sqrt(var_hat/n), 2)\n",
    "print(f'({left}, {right}) - доверительный интервал для среднего')\n",
    "ax = rev_per_month[('transactionRevenue',  'mean')].plot()\n",
    "ax.hlines(right, rev_per_month.index[0], rev_per_month.index[-1])\n",
    "ax.hlines(left, rev_per_month.index[0], rev_per_month.index[-1]);"
   ]
  },
  {
   "cell_type": "markdown",
   "metadata": {
    "id": "vOZuDK6ePIcD"
   },
   "source": [
    "__[1]__ С каких устройств (колонка `deviceCategory`) покупки осуществляются чаще всего? Постройте столбиковую диаграмму для числа покупок с каждого типа девайска (десктоп, мобила, планшет).  "
   ]
  },
  {
   "cell_type": "code",
   "execution_count": 220,
   "metadata": {
    "id": "Q-DqoWPyPIcD"
   },
   "outputs": [
    {
     "data": {
      "text/html": [
       "<div>\n",
       "<style scoped>\n",
       "    .dataframe tbody tr th:only-of-type {\n",
       "        vertical-align: middle;\n",
       "    }\n",
       "\n",
       "    .dataframe tbody tr th {\n",
       "        vertical-align: top;\n",
       "    }\n",
       "\n",
       "    .dataframe thead th {\n",
       "        text-align: right;\n",
       "    }\n",
       "</style>\n",
       "<table border=\"1\" class=\"dataframe\">\n",
       "  <thead>\n",
       "    <tr style=\"text-align: right;\">\n",
       "      <th></th>\n",
       "      <th>transactionRevenue</th>\n",
       "    </tr>\n",
       "    <tr>\n",
       "      <th>deviceCategory</th>\n",
       "      <th></th>\n",
       "    </tr>\n",
       "  </thead>\n",
       "  <tbody>\n",
       "    <tr>\n",
       "      <th>desktop</th>\n",
       "      <td>10495</td>\n",
       "    </tr>\n",
       "    <tr>\n",
       "      <th>mobile</th>\n",
       "      <td>852</td>\n",
       "    </tr>\n",
       "    <tr>\n",
       "      <th>tablet</th>\n",
       "      <td>168</td>\n",
       "    </tr>\n",
       "  </tbody>\n",
       "</table>\n",
       "</div>"
      ],
      "text/plain": [
       "                transactionRevenue\n",
       "deviceCategory                    \n",
       "desktop                      10495\n",
       "mobile                         852\n",
       "tablet                         168"
      ]
     },
     "execution_count": 220,
     "metadata": {},
     "output_type": "execute_result"
    },
    {
     "data": {
      "image/png": "[encoded data removed]",
      "text/plain": [
       "<Figure size 432x288 with 1 Axes>"
      ]
     },
     "metadata": {
      "needs_background": "light"
     },
     "output_type": "display_data"
    }
   ],
   "source": [
    "### ╰( ͡° ͜ʖ ͡° )つ──☆ дра\n",
    "dev_dist = rev.groupby('deviceCategory').agg({'transactionRevenue': 'count'})\n",
    "plt.bar(dev_dist.index, dev_dist.transactionRevenue.values);\n",
    "dev_dist"
   ]
  },
  {
   "cell_type": "markdown",
   "metadata": {
    "id": "RaWaEy69PIcE"
   },
   "source": [
    "__[2]__ Как выручка распределена по устройствам? Постройте ящик с усами или виалончель, чтобы посмотреть на это. "
   ]
  },
  {
   "cell_type": "code",
   "execution_count": 242,
   "metadata": {
    "id": "ZhYc78zgPIcE"
   },
   "outputs": [
    {
     "data": {
      "text/plain": [
       "<matplotlib.axes._subplots.AxesSubplot at 0x282d358e1c0>"
      ]
     },
     "execution_count": 242,
     "metadata": {},
     "output_type": "execute_result"
    },
    {
     "data": {
      "image/png": "[encoded data removed]",
      "text/plain": [
       "<Figure size 864x720 with 1 Axes>"
      ]
     },
     "metadata": {
      "needs_background": "light"
     },
     "output_type": "display_data"
    }
   ],
   "source": [
    "### ╰( ͡° ͜ʖ ͡° )つ──☆ фра\n",
    "rev_dist = rev.pivot(columns = 'deviceCategory', values = 'transactionRevenue')\n",
    "rev_dist = rev_dist.apply(lambda x: x[x<x.quantile(0.9)])\n",
    "fig = plt.figure(figsize = (12,10))\n",
    "sb.boxplot(x=\"deviceCategory\", y=\"transactionRevenue\", hue=\"deviceCategory\",\n",
    "                 data=rev[rev.transactionRevenue < rev.transactionRevenue.quantile(0.9)], linewidth=2.5)"
   ]
  },
  {
   "cell_type": "markdown",
   "metadata": {
    "id": "NdgIa178PIcE"
   },
   "source": [
    "__[2]__ Проверьте гипотезу о том, что число среднняя выручка с десктопа больше, чем с мобилы и планшета. Строго опишите ту процедуру, которую вы используете для проверки этой гипотезы. "
   ]
  },
  {
   "cell_type": "markdown",
   "metadata": {},
   "source": [
    "Используем проверку гипотезы о разности средних, за гипотезу H0 берем утверждение о равенстве средних. за H1 - среднее с десктопа выше. Гипотеза берется на основе ЦПТ - так как наблюдений по всем трем генеральным совокупностям достаточно"
   ]
  },
  {
   "cell_type": "code",
   "execution_count": 256,
   "metadata": {
    "id": "9t_VcuFFPIcE"
   },
   "outputs": [
    {
     "name": "stdout",
     "output_type": "stream",
     "text": [
      "Наблюдаемое значение критерия 11.243138709250003 > 1.6448536269514722 - критической точки => гипотеза H0 отвергается и принимается альтернативная\n",
      "Наблюдаемое значение критерия 37.99495007175917 > 1.6448536269514722 - критической точки => гипотеза H0 отвергается и принимается альтернативная\n"
     ]
    }
   ],
   "source": [
    "### ╰( ͡° ͜ʖ ͡° )つ──☆ скрррааа па па ка ка ка скидики па па энд э пу пу дррр бум скьа ду ду ку ку тун тун пум пум\n",
    "alpha = 0.05\n",
    "a1 = rev_dist.desktop.mean()\n",
    "a2 = rev_dist.mobile.mean()\n",
    "a3 = rev_dist.tablet.mean()\n",
    "var1 = rev_dist.desktop.var(ddof=1)\n",
    "var2 = rev_dist.mobile.var(ddof=1\n",
    "var3 = rev_dist.tablet.var(ddof=1)\n",
    "n1, n2, n3 = rev_dist.count().values\n",
    "# для начала проверка гипотезы о равенстве средних для desktop и tablet:\n",
    "u_obs = (a1-a3)/np.sqrt(var1/n1 + var3/n3)\n",
    "z_right = stats.norm.ppf(1-alpha)\n",
    "print(f'Наблюдаемое значение критерия {u_obs} > {z_right} - критической точки => гипотеза H0 отвергается и принимается альтернативная'))\n",
    "# теперь то же самое для desktop и mobile:\n",
    "u_obs = (a1-a2)/np.sqrt(var1/n1 + var2/n2)\n",
    "print(f'Наблюдаемое значение критерия {u_obs} > {z_right} - критической точки => гипотеза H0 отвергается и принимается альтернативная')"
   ]
  },
  {
   "cell_type": "markdown",
   "metadata": {
    "id": "Pyv5uFWsPIcE"
   },
   "source": [
    "__[2]__ На основе всего проведённого анализа сделайте выводы о текущем состоянии магазина и дайте ему пару советов: \n",
    "\n",
    "__Ответ:__ "
   ]
  },
  {
   "cell_type": "markdown",
   "metadata": {
    "id": "QgvlW3FZPIcE"
   },
   "source": [
    "## [10] Задачка 3: стабилизация дисперсии\n",
    "\n",
    "Пусть $X_n \\sim Poiss(\\lambda)$. Мы не знаем параметр $\\lambda$ и хотим построить для него доверительный интервал. По ЦПТ \n",
    "\n",
    "$$\\hat \\lambda = \\bar x \\sim N \\left(\\lambda, \\frac{\\lambda}{n} \\right).$$\n",
    "\n",
    "Для того, чтобы было возможно построить доверительный интервал мы можем: \n",
    "\n",
    "1. Заменить в дисперсии $\\lambda$ на его оценку, а затем построить доверительный интервал. На асимптотику это никак не повлияет.\n",
    "2. Применить преобразование для стабилизации дисперсии и построить доверительный интервал.\n",
    "\n",
    "Подробее про все три процедуры смотрите конспект лекции. "
   ]
  },
  {
   "cell_type": "markdown",
   "metadata": {
    "id": "6qXRUjh7PIcF"
   },
   "source": [
    "Постройте все три $95\\%$-х интервала для всех комбинаций $n \\in \\{10, 100, 1000 \\}$ и $\\lambda \\in \\{1, 5, 100\\}$. Для каждой ситуации сделайте это $1000$ раз. \n",
    "\n",
    "__а)__ Оцените вероятность того, что доверительный интервал содержит истиное значение $\\lambda$. Всегда ли она соответствует $95\\%$? \n",
    "\n",
    "__б)__ Найдите среднюю длину интервала для каждой из ситуаций. Какой доверительный интервал оказывается самым коротким?\n",
    "\n",
    "__в)__ Есть ли существенная разница, какую из двух процедур использовать?"
   ]
  },
  {
   "cell_type": "code",
   "execution_count": null,
   "metadata": {
    "id": "m6xUb7iOPIcF"
   },
   "outputs": [],
   "source": [
    "### ╰( ͡° ͜ʖ ͡° )つ──☆ пум пум пум пум пум"
   ]
  },
  {
   "cell_type": "markdown",
   "metadata": {
    "id": "GEdD6uFePIcF"
   },
   "source": [
    "## [10] Задачка 4: реклама\n",
    "\n",
    "\n",
    "__Чётко выпишите проверяемую гипотезу. Чётко обоснуйте выбранный для её проверки критерий, выпишите все предпосылки, которые вы используете.__\n",
    "\n",
    "Новый корм для котиков рекламируется с помощью рекламного баннера. Отдел маркетинга разработал для рекламы новый баннер. Они считают, что он более красивый. Перед фирмой возникла необходимость проверить какой из двух баннеров лучше. \n",
    "\n",
    "Для этого была создана специальная веб-форма. В этой веб-форме людям по очереди демонстрировали оба баннера и просили поставить лайк, если баннер нравится человеку. Если человеку нравятся оба баннера, он может поставить два лайка. Если ему не нравится ни один баннер, он может не ставить лайки вовсе. Собранные в конечном итоге данные находятся в [табличке.](https://yadi.sk/i/9Z5N-6PM3XN8on)\n",
    "\n",
    "Можно ли утверждать, что оба баннера одинаково хороши? Не забудьте найти p-значение."
   ]
  },
  {
   "cell_type": "code",
   "execution_count": 269,
   "metadata": {
    "id": "svct1j8pPIcF"
   },
   "outputs": [
    {
     "data": {
      "text/html": [
       "<div>\n",
       "<style scoped>\n",
       "    .dataframe tbody tr th:only-of-type {\n",
       "        vertical-align: middle;\n",
       "    }\n",
       "\n",
       "    .dataframe tbody tr th {\n",
       "        vertical-align: top;\n",
       "    }\n",
       "\n",
       "    .dataframe thead th {\n",
       "        text-align: right;\n",
       "    }\n",
       "</style>\n",
       "<table border=\"1\" class=\"dataframe\">\n",
       "  <thead>\n",
       "    <tr style=\"text-align: right;\">\n",
       "      <th></th>\n",
       "      <th>0</th>\n",
       "      <th>1</th>\n",
       "    </tr>\n",
       "  </thead>\n",
       "  <tbody>\n",
       "    <tr>\n",
       "      <th>89</th>\n",
       "      <td>1</td>\n",
       "      <td>0</td>\n",
       "    </tr>\n",
       "    <tr>\n",
       "      <th>154</th>\n",
       "      <td>0</td>\n",
       "      <td>1</td>\n",
       "    </tr>\n",
       "    <tr>\n",
       "      <th>186</th>\n",
       "      <td>0</td>\n",
       "      <td>1</td>\n",
       "    </tr>\n",
       "    <tr>\n",
       "      <th>192</th>\n",
       "      <td>0</td>\n",
       "      <td>1</td>\n",
       "    </tr>\n",
       "    <tr>\n",
       "      <th>253</th>\n",
       "      <td>0</td>\n",
       "      <td>1</td>\n",
       "    </tr>\n",
       "    <tr>\n",
       "      <th>279</th>\n",
       "      <td>0</td>\n",
       "      <td>1</td>\n",
       "    </tr>\n",
       "    <tr>\n",
       "      <th>310</th>\n",
       "      <td>1</td>\n",
       "      <td>0</td>\n",
       "    </tr>\n",
       "    <tr>\n",
       "      <th>327</th>\n",
       "      <td>1</td>\n",
       "      <td>0</td>\n",
       "    </tr>\n",
       "    <tr>\n",
       "      <th>329</th>\n",
       "      <td>1</td>\n",
       "      <td>0</td>\n",
       "    </tr>\n",
       "    <tr>\n",
       "      <th>351</th>\n",
       "      <td>0</td>\n",
       "      <td>1</td>\n",
       "    </tr>\n",
       "    <tr>\n",
       "      <th>464</th>\n",
       "      <td>0</td>\n",
       "      <td>1</td>\n",
       "    </tr>\n",
       "    <tr>\n",
       "      <th>487</th>\n",
       "      <td>0</td>\n",
       "      <td>1</td>\n",
       "    </tr>\n",
       "    <tr>\n",
       "      <th>495</th>\n",
       "      <td>0</td>\n",
       "      <td>1</td>\n",
       "    </tr>\n",
       "    <tr>\n",
       "      <th>572</th>\n",
       "      <td>0</td>\n",
       "      <td>1</td>\n",
       "    </tr>\n",
       "    <tr>\n",
       "      <th>582</th>\n",
       "      <td>0</td>\n",
       "      <td>1</td>\n",
       "    </tr>\n",
       "    <tr>\n",
       "      <th>584</th>\n",
       "      <td>0</td>\n",
       "      <td>1</td>\n",
       "    </tr>\n",
       "    <tr>\n",
       "      <th>606</th>\n",
       "      <td>0</td>\n",
       "      <td>1</td>\n",
       "    </tr>\n",
       "    <tr>\n",
       "      <th>611</th>\n",
       "      <td>0</td>\n",
       "      <td>1</td>\n",
       "    </tr>\n",
       "    <tr>\n",
       "      <th>658</th>\n",
       "      <td>0</td>\n",
       "      <td>1</td>\n",
       "    </tr>\n",
       "    <tr>\n",
       "      <th>670</th>\n",
       "      <td>0</td>\n",
       "      <td>1</td>\n",
       "    </tr>\n",
       "    <tr>\n",
       "      <th>712</th>\n",
       "      <td>1</td>\n",
       "      <td>0</td>\n",
       "    </tr>\n",
       "    <tr>\n",
       "      <th>723</th>\n",
       "      <td>0</td>\n",
       "      <td>1</td>\n",
       "    </tr>\n",
       "    <tr>\n",
       "      <th>728</th>\n",
       "      <td>0</td>\n",
       "      <td>1</td>\n",
       "    </tr>\n",
       "    <tr>\n",
       "      <th>741</th>\n",
       "      <td>0</td>\n",
       "      <td>1</td>\n",
       "    </tr>\n",
       "    <tr>\n",
       "      <th>760</th>\n",
       "      <td>0</td>\n",
       "      <td>1</td>\n",
       "    </tr>\n",
       "    <tr>\n",
       "      <th>800</th>\n",
       "      <td>0</td>\n",
       "      <td>1</td>\n",
       "    </tr>\n",
       "    <tr>\n",
       "      <th>855</th>\n",
       "      <td>0</td>\n",
       "      <td>1</td>\n",
       "    </tr>\n",
       "    <tr>\n",
       "      <th>919</th>\n",
       "      <td>0</td>\n",
       "      <td>1</td>\n",
       "    </tr>\n",
       "    <tr>\n",
       "      <th>941</th>\n",
       "      <td>1</td>\n",
       "      <td>0</td>\n",
       "    </tr>\n",
       "    <tr>\n",
       "      <th>952</th>\n",
       "      <td>1</td>\n",
       "      <td>0</td>\n",
       "    </tr>\n",
       "  </tbody>\n",
       "</table>\n",
       "</div>"
      ],
      "text/plain": [
       "     0  1\n",
       "89   1  0\n",
       "154  0  1\n",
       "186  0  1\n",
       "192  0  1\n",
       "253  0  1\n",
       "279  0  1\n",
       "310  1  0\n",
       "327  1  0\n",
       "329  1  0\n",
       "351  0  1\n",
       "464  0  1\n",
       "487  0  1\n",
       "495  0  1\n",
       "572  0  1\n",
       "582  0  1\n",
       "584  0  1\n",
       "606  0  1\n",
       "611  0  1\n",
       "658  0  1\n",
       "670  0  1\n",
       "712  1  0\n",
       "723  0  1\n",
       "728  0  1\n",
       "741  0  1\n",
       "760  0  1\n",
       "800  0  1\n",
       "855  0  1\n",
       "919  0  1\n",
       "941  1  0\n",
       "952  1  0"
      ]
     },
     "metadata": {},
     "output_type": "display_data"
    },
    {
     "name": "stdout",
     "output_type": "stream",
     "text": [
      "Наблюдаемое значение критерия 1.7271126578424703 принадлежит критической области (-1.959963984540054, 1.959963984540054) => гипотеза H0 принимается\n",
      "на уровне значимости 0.05 можно говорить о том, что оба банера нравятся людям одинаково\n",
      "p_value = 0.08414743276119413\n"
     ]
    }
   ],
   "source": [
    "### ╰( ͡° ͜ʖ ͡° )つ──☆ врум\n",
    "opinions = pd.read_csv('C:/Users/DNS/Downloads/banner_click_stat.csv', sep = '\\t', header = None)\n",
    "display(opinions[opinions[0] != opinions[1]])\n",
    "p_1 = opinions[0].mean()\n",
    "p_2 = opinions[1].mean()\n",
    "n = len(opinions[0])\n",
    "nu = p_2 - p_1\n",
    "var = p_1*(1-p_1)/n + p_2*(1-p_2)/n\n",
    "u_obs = nu/np.sqrt(var)\n",
    "z_crit = stats.norm.ppf(1-alpha/2)\n",
    "print(f'Наблюдаемое значение критерия {u_obs} принадлежит критической области ({-z_crit}, {z_crit}) => гипотеза H0 принимается')\n",
    "print(f'на уровне значимости 0.05 можно говорить о том, что оба банера нравятся людям одинаково')\n",
    "print(f'p_value = {2*stats.norm.cdf(-u_obs)}')"
   ]
  },
  {
   "cell_type": "markdown",
   "metadata": {
    "id": "IhFAx7G9PIcF"
   },
   "source": [
    "## [10] Задачка 5: GMAT\n",
    "\n",
    "__Чётко выпишите проверяемую гипотезу. Чётко обоснуйте выбранный для её проверки критерий, выпишите все предпосылки, которые вы используете.__\n",
    "\n",
    "Ежегодно более $200000$ людей по всему миру сдают стандартизированный экзамен GMAT при поступлении на программы MBA. Средний результат составляет $525$ баллов, стандартное отклонение — $100$ баллов.\n",
    "\n",
    "Сто студентов закончили специальные подготовительные курсы и сдали экзамен. Средний полученный ими балл — $541.4$. Проверьте гипотезу о неэффективности программы против односторонней альтернативы о том, что программа работает. Отвергается ли на уровне значимости $0.05$ нулевая гипотеза? "
   ]
  },
  {
   "cell_type": "markdown",
   "metadata": {},
   "source": [
    "Проверка гипотезы с помощью асимптотического критерия о разности средних (число наблюдений велико), дисперсии известны "
   ]
  },
  {
   "cell_type": "code",
   "execution_count": 273,
   "metadata": {
    "id": "XBeyxTZDPIcG"
   },
   "outputs": [
    {
     "name": "stdout",
     "output_type": "stream",
     "text": [
      "Наблюдаемое значение критерия 1.6395901536859634 < 1.6448536269514722 - критической точки => гипотеза H0 отвергается и принимается - программа неэффективна\n"
     ]
    }
   ],
   "source": [
    "### ╰( ͡° ͜ʖ ͡° )つ──☆ шаааааа\n",
    "alpha = 0.05\n",
    "a1 = 541.4\n",
    "a2 = 525\n",
    " \n",
    "var = 100**2\n",
    "\n",
    "u_obs = (a1-a2)/np.sqrt(var/200000 + var/100)\n",
    "z_right = stats.norm.ppf(1-alpha)\n",
    "print(f'Наблюдаемое значение критерия {u_obs} < {z_right} - критической точки => гипотеза H0 отвергается и принимается - программа неэффективна')"
   ]
  },
  {
   "cell_type": "markdown",
   "metadata": {
    "id": "Xihr3sAHPIcG"
   },
   "source": [
    "## [10] Задачка 6: Челленджер\n",
    "\n",
    "28 января 1986 года космический шаттл \"Челленджер\" взорвался при взлёте. Семь астронавтов, находившихся на борту, погибли. В ходе расследования причин катастрофы основной версией была неполадка с резиновыми уплотнительными кольцами в соединении с ракетными ускорителями. Для 23 предшествовавших катастрофе полётов \"Челленджера\" [известны температура воздуха и появление повреждений](https://yadi.sk/i/yuX1AQ-khApwvw) хотя бы у одного из уплотнительных колец."
   ]
  },
  {
   "cell_type": "code",
   "execution_count": 285,
   "metadata": {
    "id": "G_KScGL0PIcG"
   },
   "outputs": [
    {
     "data": {
      "text/html": [
       "<div>\n",
       "<style scoped>\n",
       "    .dataframe tbody tr th:only-of-type {\n",
       "        vertical-align: middle;\n",
       "    }\n",
       "\n",
       "    .dataframe tbody tr th {\n",
       "        vertical-align: top;\n",
       "    }\n",
       "\n",
       "    .dataframe thead th {\n",
       "        text-align: right;\n",
       "    }\n",
       "</style>\n",
       "<table border=\"1\" class=\"dataframe\">\n",
       "  <thead>\n",
       "    <tr style=\"text-align: right;\">\n",
       "      <th></th>\n",
       "      <th>Temperature</th>\n",
       "      <th>Incident</th>\n",
       "    </tr>\n",
       "  </thead>\n",
       "  <tbody>\n",
       "    <tr>\n",
       "      <th>Apr12.81</th>\n",
       "      <td>18.9</td>\n",
       "      <td>0</td>\n",
       "    </tr>\n",
       "    <tr>\n",
       "      <th>Nov12.81</th>\n",
       "      <td>21.1</td>\n",
       "      <td>1</td>\n",
       "    </tr>\n",
       "    <tr>\n",
       "      <th>Mar22.82</th>\n",
       "      <td>20.6</td>\n",
       "      <td>0</td>\n",
       "    </tr>\n",
       "    <tr>\n",
       "      <th>Nov11.82</th>\n",
       "      <td>20.0</td>\n",
       "      <td>0</td>\n",
       "    </tr>\n",
       "    <tr>\n",
       "      <th>Apr04.83</th>\n",
       "      <td>19.4</td>\n",
       "      <td>0</td>\n",
       "    </tr>\n",
       "  </tbody>\n",
       "</table>\n",
       "</div>"
      ],
      "text/plain": [
       "          Temperature  Incident\n",
       "Apr12.81         18.9         0\n",
       "Nov12.81         21.1         1\n",
       "Mar22.82         20.6         0\n",
       "Nov11.82         20.0         0\n",
       "Apr04.83         19.4         0"
      ]
     },
     "execution_count": 285,
     "metadata": {},
     "output_type": "execute_result"
    }
   ],
   "source": [
    "flights = pd.read_table('C:/Users/DNS/Downloads/challenger.txt', index_col=0)\n",
    "flights.head()"
   ]
  },
  {
   "cell_type": "markdown",
   "metadata": {
    "id": "2YdnHyWMPIcG"
   },
   "source": [
    "С помощью бутстрепа постройте 95% доверительный интервал для разности средних температур воздуха при запусках, когда уплотнительные кольца повреждались, и запусках, когда повреждений не было. Какие выводы вы можете сделать на основе получившегося интервала? "
   ]
  },
  {
   "cell_type": "code",
   "execution_count": 308,
   "metadata": {
    "id": "6gVf4PorPIcG"
   },
   "outputs": [
    {
     "name": "stdout",
     "output_type": "stream",
     "text": [
      "(19.261, 22.362) - доверительный интервал для среднего, построенный с помощью бутстрепа\n"
     ]
    }
   ],
   "source": [
    "### ╰( ͡° ͜ʖ ͡° )つ──☆ таааааа\n",
    "temp = flights.Temperature\n",
    "B = 1000 #количество выборок с возвращением\n",
    "list_of_means = np.array([])\n",
    "for i in range(B):\n",
    "    list_of_means = np.append(list_of_means, temp.sample(len(temp), replace = True).mean())\n",
    "right = round(np.quantile(list_of_means, 0.975), 3)\n",
    "left = round(np.quantile(list_of_means, 0.025), 3)\n",
    "print(f'({left}, {right}) - доверительный интервал для среднего, построенный с помощью бутстрепа')"
   ]
  },
  {
   "cell_type": "markdown",
   "metadata": {
    "id": "3tspimLRPIcH"
   },
   "source": [
    "## [5] Задачка 7: Осьминог Пауль\n",
    "\n",
    "Во время ЧЕ по футболу 2008 года и ЧМ 2010 года [Осьминог Пауль](https://ru.wikipedia.org/wiki/Пауль_(осьминог))занимался прогнозированием побед (после он ушёл в финансовую аналитику и IB). Осьминог дал верные прогнозы в $12$ случаях из $14$. Если предположить, что Пауль выбирает победителя наугад, какова вероятность получить 12 верных прогнозов из 14? "
   ]
  },
  {
   "cell_type": "code",
   "execution_count": 317,
   "metadata": {
    "id": "AQREdARVPIcH"
   },
   "outputs": [
    {
     "name": "stdout",
     "output_type": "stream",
     "text": [
      "0.00555419921875 - вероятность 12 прогнозов из 14 в случае прогнозирования наугад\n"
     ]
    }
   ],
   "source": [
    "# НЕ НАДО НИЧЕГО ТУТ ГЕНЕРИРОВАТЬ! ПРОСТО ПОСЧИТАЙТЕ! \n",
    "import math\n",
    "P_A = math.comb(14,12)*0.5**14\n",
    "print(f'{P_A} - вероятность 12 прогнозов из 14 в случае прогнозирования наугад')"
   ]
  },
  {
   "cell_type": "markdown",
   "metadata": {
    "id": "GemIl16BPIcH"
   },
   "source": [
    "Можно ли утверждать, что Осьминог обладает даром предвидения? Проверьте гипотезу с помощью точного критерия и с помощью асимптотического. Какие предпосылки вы используете, когда пользуетесь этими критериями? "
   ]
  },
  {
   "cell_type": "code",
   "execution_count": 36,
   "metadata": {
    "id": "v9o4m3IqPIcH"
   },
   "outputs": [
    {
     "name": "stdout",
     "output_type": "stream",
     "text": [
      "наблюдаемое значение - 3.818813079129866 больше правого критического - 1.959963984540054 => гипотеза H0 отвергается на 5% уровне значимости\n"
     ]
    }
   ],
   "source": [
    "### ╰( ͡° ͜ʖ ͡° )つ──☆ врум\n",
    "alpha = 0.05\n",
    "p_hat = 12/14\n",
    "var_hat = p_hat*(1-p_hat)/14\n",
    "u_obs = (p_hat-0.5)/np.sqrt(var_hat)\n",
    "z_crit = stats.norm.ppf(1-alpha/2) # для асимптотического критерия (пользуемся ЗБЧ)\n",
    "print(f'наблюдаемое значение - {u_obs} больше правого критического - {z_crit} => гипотеза H0 отвергается на 5% уровне значимости')"
   ]
  },
  {
   "cell_type": "markdown",
   "metadata": {},
   "source": [
    "## Точный критерий\n",
    "Предсказание результата осьминогом имеет биномиальное распределение с параметрами n = 14 и p = 1/2 в случае верности нулевой гипотезы. Посмотрим, чему равны вероятности количества верных прогнозов в случае верности нулевой гипотезы:"
   ]
  },
  {
   "cell_type": "code",
   "execution_count": 34,
   "metadata": {},
   "outputs": [
    {
     "name": "stdout",
     "output_type": "stream",
     "text": [
      "наблюдаемое значение - 12 больше правого критического - 11 => гипотеза H0 отвергается на 5% уровне значимости\n"
     ]
    }
   ],
   "source": [
    "def P_Bin (m, p, n):\n",
    "    return math.comb(n,m)*p**m*(1-p)**(n-m)\n",
    "list_prob = [(i, P_Bin(i, 0.5, 14)) for i in range(15)]\n",
    "p = 0\n",
    "crit = None\n",
    "for m in list_prob[::-1]:\n",
    "    p += m[1]\n",
    "    if p >= 0.025:\n",
    "        crit = m[0]\n",
    "        break\n",
    "print(f'наблюдаемое значение - 12 больше правого критического - {crit} => гипотеза H0 отвергается на 5% уровне значимости')\n"
   ]
  },
  {
   "cell_type": "markdown",
   "metadata": {
    "id": "3Lb350XmPIcH"
   },
   "source": [
    "## [5] Задачка 8: распределение Колмогорова\n",
    "\n",
    "Когда мы обсуждали критерии согласия, мы с вами сказали, что \n",
    "\n",
    "$$\n",
    "\\sqrt{n} \\cdot \\sup_{x \\in \\mathbb{R}} \\mid \\hat F_n(x) - F(x) \\mid \\overset{d}{\\to} D,\n",
    "$$\n",
    "\n",
    "где случайная величина $D$ имеет распределение Колмогорова. Давайте попробуем посмотреть на то, как это распределение выглядит. Возьмите какое-нибудь конкретное распределение и на его основе сгенерируйте для статистики Колмогорова выборку размера $10000$. Постройте по этой выборке гистограмму и полюбуйтесь на неё. "
   ]
  },
  {
   "cell_type": "code",
   "execution_count": null,
   "metadata": {
    "id": "SSz0E4ZkPIcH"
   },
   "outputs": [],
   "source": [
    "### ╰( ͡° ͜ʖ ͡° )つ──☆ тра-та-та-та-та\n"
   ]
  },
  {
   "cell_type": "code",
   "execution_count": 50,
   "metadata": {},
   "outputs": [
    {
     "data": {
      "text/plain": [
       "0"
      ]
     },
     "execution_count": 50,
     "metadata": {},
     "output_type": "execute_result"
    }
   ],
   "source": []
  },
  {
   "cell_type": "markdown",
   "metadata": {
    "id": "D2NVcjqhPIcH"
   },
   "source": [
    " "
   ]
  }
 ],
 "metadata": {
  "colab": {
   "name": "hw02.ipynb",
   "provenance": []
  },
  "kernelspec": {
   "display_name": "Python 3",
   "language": "python",
   "name": "python3"
  },
  "language_info": {
   "codemirror_mode": {
    "name": "ipython",
    "version": 3
   },
   "file_extension": ".py",
   "mimetype": "text/x-python",
   "name": "python",
   "nbconvert_exporter": "python",
   "pygments_lexer": "ipython3",
   "version": "3.8.3"
  }
 },
 "nbformat": 4,
 "nbformat_minor": 1
}
